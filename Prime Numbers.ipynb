{
 "cells": [
  {
   "cell_type": "markdown",
   "id": "6602feb9",
   "metadata": {},
   "source": [
    "### To Check Whether a Given Number is Prime or not"
   ]
  },
  {
   "cell_type": "code",
   "execution_count": 43,
   "id": "a3f76a23",
   "metadata": {
    "ExecuteTime": {
     "end_time": "2024-08-03T06:43:50.536384Z",
     "start_time": "2024-08-03T06:43:49.774323Z"
    }
   },
   "outputs": [
    {
     "name": "stdout",
     "output_type": "stream",
     "text": [
      "Enter a number:2\n",
      "2 is a Prime Number\n"
     ]
    }
   ],
   "source": [
    "def isPrime(num):\n",
    "    if num <= 1:\n",
    "        return False\n",
    "    for i in range(2, num):\n",
    "        if num % i == 0:\n",
    "            return False\n",
    "    return True\n",
    "\n",
    "num = int(input(\"Enter a number:\"))\n",
    "\n",
    "if isPrime(num):\n",
    "    print(f\"{num} is a Prime Number\")\n",
    "else:\n",
    "    print(f\"{num} is not a Prime Number\")"
   ]
  },
  {
   "cell_type": "markdown",
   "id": "2928b203",
   "metadata": {},
   "source": [
    "### Print first n Prime Numbers"
   ]
  },
  {
   "cell_type": "code",
   "execution_count": 28,
   "id": "50f3b53b",
   "metadata": {
    "ExecuteTime": {
     "end_time": "2024-08-03T05:52:51.059767Z",
     "start_time": "2024-08-03T05:52:47.298729Z"
    }
   },
   "outputs": [
    {
     "name": "stdout",
     "output_type": "stream",
     "text": [
      "Enter the number of prime numbers to print: 10\n",
      "[2, 3, 5, 7, 11, 13, 17, 19, 23, 29]\n"
     ]
    }
   ],
   "source": [
    "def isPrime(num):\n",
    "    if num <= 1:\n",
    "        return False\n",
    "    for i in range(2, num):\n",
    "        if num % i == 0:\n",
    "            return False\n",
    "    return True\n",
    "\n",
    "def first_n_primes(n):\n",
    "\n",
    "    primes = []\n",
    "    num = 2\n",
    "    while len(primes) < n:\n",
    "        if isPrime(num):\n",
    "            primes.append(num)\n",
    "        num += 1\n",
    "    print(primes)\n",
    "\n",
    "n = int(input(\"Enter the number of prime numbers to print: \"))\n",
    "first_n_primes(n)"
   ]
  },
  {
   "cell_type": "markdown",
   "id": "fbecc27d",
   "metadata": {},
   "source": [
    "### Print Prime Numbers in a given range"
   ]
  },
  {
   "cell_type": "code",
   "execution_count": 30,
   "id": "66812bc1",
   "metadata": {
    "ExecuteTime": {
     "end_time": "2024-08-03T06:34:04.737031Z",
     "start_time": "2024-08-03T06:34:00.077923Z"
    }
   },
   "outputs": [
    {
     "name": "stdout",
     "output_type": "stream",
     "text": [
      "Enter the start of the range: 100\n",
      "Enter the end of the range: 200\n"
     ]
    },
    {
     "data": {
      "text/plain": [
       "[101,\n",
       " 103,\n",
       " 107,\n",
       " 109,\n",
       " 113,\n",
       " 127,\n",
       " 131,\n",
       " 137,\n",
       " 139,\n",
       " 149,\n",
       " 151,\n",
       " 157,\n",
       " 163,\n",
       " 167,\n",
       " 173,\n",
       " 179,\n",
       " 181,\n",
       " 191,\n",
       " 193,\n",
       " 197,\n",
       " 199]"
      ]
     },
     "execution_count": 30,
     "metadata": {},
     "output_type": "execute_result"
    }
   ],
   "source": [
    "def isPrime(num):\n",
    "    if num <= 1:\n",
    "        return False\n",
    "    for i in range(2, num):\n",
    "        if num % i == 0:\n",
    "            return False\n",
    "    return True\n",
    "\n",
    "def primes_in_range(start, end):\n",
    "    primes = []\n",
    "    for num in range(start, end + 1):\n",
    "        if isPrime(num):\n",
    "            primes.append(num)\n",
    "    return primes\n",
    "\n",
    "start = int(input(\"Enter the start of the range: \"))\n",
    "end = int(input(\"Enter the end of the range: \"))\n",
    "\n",
    "primes_in_range(start, end)"
   ]
  },
  {
   "cell_type": "code",
   "execution_count": 32,
   "id": "e279e0ef",
   "metadata": {
    "ExecuteTime": {
     "end_time": "2024-08-03T06:36:22.073815Z",
     "start_time": "2024-08-03T06:36:22.065559Z"
    }
   },
   "outputs": [
    {
     "data": {
      "text/plain": [
       "21"
      ]
     },
     "execution_count": 32,
     "metadata": {},
     "output_type": "execute_result"
    }
   ],
   "source": [
    "len(primes_in_range(100,200))"
   ]
  },
  {
   "cell_type": "code",
   "execution_count": 44,
   "id": "9b4026c7",
   "metadata": {
    "ExecuteTime": {
     "end_time": "2024-08-03T06:43:56.000288Z",
     "start_time": "2024-08-03T06:43:55.673192Z"
    }
   },
   "outputs": [
    {
     "name": "stdout",
     "output_type": "stream",
     "text": [
      "Enter a number:2\n",
      "2 is a Prime Number\n"
     ]
    }
   ],
   "source": [
    "def isPrime(num):\n",
    "    if num <= 1:\n",
    "        return False\n",
    "    for i in range(2, int(num**0.5)+1):\n",
    "        if num % i == 0:\n",
    "            return False\n",
    "    return True\n",
    "\n",
    "num = int(input(\"Enter a number:\"))\n",
    "\n",
    "if isPrime(num):\n",
    "    print(f\"{num} is a Prime Number\")\n",
    "else:\n",
    "    print(f\"{num} is not a Prime Number\")"
   ]
  },
  {
   "cell_type": "code",
   "execution_count": null,
   "id": "a55e4149",
   "metadata": {},
   "outputs": [],
   "source": []
  }
 ],
 "metadata": {
  "kernelspec": {
   "display_name": "Python 3 (ipykernel)",
   "language": "python",
   "name": "python3"
  },
  "language_info": {
   "codemirror_mode": {
    "name": "ipython",
    "version": 3
   },
   "file_extension": ".py",
   "mimetype": "text/x-python",
   "name": "python",
   "nbconvert_exporter": "python",
   "pygments_lexer": "ipython3",
   "version": "3.11.5"
  },
  "varInspector": {
   "cols": {
    "lenName": 16,
    "lenType": 16,
    "lenVar": 40
   },
   "kernels_config": {
    "python": {
     "delete_cmd_postfix": "",
     "delete_cmd_prefix": "del ",
     "library": "var_list.py",
     "varRefreshCmd": "print(var_dic_list())"
    },
    "r": {
     "delete_cmd_postfix": ") ",
     "delete_cmd_prefix": "rm(",
     "library": "var_list.r",
     "varRefreshCmd": "cat(var_dic_list()) "
    }
   },
   "types_to_exclude": [
    "module",
    "function",
    "builtin_function_or_method",
    "instance",
    "_Feature"
   ],
   "window_display": false
  }
 },
 "nbformat": 4,
 "nbformat_minor": 5
}
